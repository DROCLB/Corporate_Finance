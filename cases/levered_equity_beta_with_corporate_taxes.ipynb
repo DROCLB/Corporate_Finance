{
 "cells": [
  {
   "cell_type": "markdown",
   "id": "9c95c0ad",
   "metadata": {},
   "source": [
    "\n",
    "### Modigliani-Miller Propositions: Levered Equity Beta with Corporate Taxes\n",
    "\n",
    "**Value of Levered Firm and its Beta:**\n",
    "   *   From the financing side (claims): $V^L = E + D$.\n",
    "        The beta of the levered firm's value is the weighted average of the betas of its equity and debt:\n",
    "        $$ \\beta_{V^L} = \\frac{E}{V^L}\\beta_E + \\frac{D}{V^L}\\beta_D \\quad \\quad (1) $$\n",
    "\n",
    "**Value of Levered Firm and its Beta with Tax Shield):**\n",
    "   *   From Modigliani-Miller with corporate taxes, the value of a levered firm is the value of an unlevered firm ($V^U$) plus the present value of the interest tax shield:\n",
    "        $$V^L = V^U + PV(ITS)$$\n",
    "   *   Assuming perpetual debt and that the risk of the tax shield is equivalent to the risk of the debt ($\\beta_{ITS} = \\beta_D$), then $PV(ITS) = \\tau_C D$. So, \n",
    "        $$V^L = V^U + \\tau_C D$$\n",
    "   *   The beta of the levered firm's value can also be seen as a portfolio of the unlevered firm's assets and the tax shield's value contribution:\n",
    "        $$ V^L \\beta_{V^L} = V^U \\beta_U + (\\tau_C D) \\beta_D \\quad \\Rightarrow \\quad \\beta_{V^L} = \\frac{V^U}{V^L}\\beta_U + \\frac{\\tau_C D}{V^L}\\beta_D \\quad \\quad (2) $$\n",
    "\n",
    "**Equating the two expressions for $\\beta_{V^L}$ and Solving for $\\beta_E$:**\n",
    "   \n",
    "   From (1) and (2):\n",
    "   $$ \\frac{E}{V^L}\\beta_E + \\frac{D}{V^L}\\beta_D = \\frac{V^U}{V^L}\\beta_U + \\frac{\\tau_C D}{V^L}\\beta_D \\quad \\Rightarrow \\quad E\\beta_E + D\\beta_D = V^U\\beta_U + \\tau_C D\\beta_D $$\n",
    "   Solve for $E\\beta_E$:\n",
    "   $$ E\\beta_E = V^U\\beta_U + D\\beta_D(\\tau_C - 1) = V^U\\beta_U - D\\beta_D(1 - \\tau_C) $$\n",
    "   Substitute $\\quad V^U = V^L - \\tau_C D = (E+D) - \\tau_C D = E + D(1-\\tau_C)$:\n",
    "   $$ \\Rightarrow \\quad E\\beta_E = (E + D(1-\\tau_C))\\beta_U - D\\beta_D(1 - \\tau_C) \\quad \\Rightarrow \\quad \\beta_E = \\frac{E + D(1-\\tau_C)}{E}\\beta_U - \\frac{D(1-\\tau_C)}{E}\\beta_D $$\n",
    "   $$ \\Rightarrow \\quad \\beta_E = \\left(1 + \\frac{D}{E}(1-\\tau_C)\\right)\\beta_U - \\frac{D}{E}(1-\\tau_C)\\beta_D $$\n",
    "   Rearranging terms:\n",
    "   $$ \\boxed{\\beta_E = \\beta_U + (\\beta_U - \\beta_D)\\frac{D}{E}(1-\\tau_C)} $$\n",
    "\n",
    "**Special Case: Risk-Free Debt ($\\beta_D = 0$) (Hamada Equation):**\n",
    "    If debt is risk-free, $\\beta_D = 0$, the formula simplifies to:\n",
    "    $$ \\boxed{\\beta_E = \\beta_U\\left(1 + (1 - \\tau_C)\\frac{D}{E}\\right)} $$\n",
    "\n",
    "---\n",
    "\n",
    "---\n"
   ]
  }
 ],
 "metadata": {
  "language_info": {
   "name": "python"
  }
 },
 "nbformat": 4,
 "nbformat_minor": 5
}
